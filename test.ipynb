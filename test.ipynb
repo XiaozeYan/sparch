{
 "cells": [
  {
   "cell_type": "code",
   "execution_count": 1,
   "metadata": {},
   "outputs": [],
   "source": [
    "d1 = {\"a\":1,\"b\":2}\n",
    "d2 = {\"a\":2}"
   ]
  },
  {
   "cell_type": "code",
   "execution_count": 4,
   "metadata": {},
   "outputs": [],
   "source": [
    "d1.update(d2)"
   ]
  },
  {
   "cell_type": "code",
   "execution_count": 5,
   "metadata": {},
   "outputs": [
    {
     "data": {
      "text/plain": [
       "{'a': 2, 'b': 2}"
      ]
     },
     "execution_count": 5,
     "metadata": {},
     "output_type": "execute_result"
    }
   ],
   "source": [
    "d1"
   ]
  },
  {
   "cell_type": "code",
   "execution_count": 7,
   "metadata": {},
   "outputs": [
    {
     "name": "stderr",
     "output_type": "stream",
     "text": [
      "usage: ipykernel_launcher.py [-h]\n",
      "                             [--model_type {LIF,adLIF,RLIF,RadLIF,MLP,RNN,LiGRU,GRU}]\n",
      "                             [--nb_layers NB_LAYERS] [--nb_hiddens NB_HIDDENS]\n",
      "                             [--pdrop PDROP] [--normalization NORMALIZATION]\n",
      "                             [--use_bias USE_BIAS]\n",
      "                             [--bidirectional BIDIRECTIONAL]\n",
      "                             [--use_pretrained_model USE_PRETRAINED_MODEL]\n",
      "                             [--only_do_testing ONLY_DO_TESTING]\n",
      "                             [--load_exp_folder LOAD_EXP_FOLDER]\n",
      "                             [--new_exp_folder NEW_EXP_FOLDER]\n",
      "                             [--dataset_name {shd,ssc,hd,sc}]\n",
      "                             [--data_folder DATA_FOLDER]\n",
      "                             [--log_tofile LOG_TOFILE] [--save_best SAVE_BEST]\n",
      "                             [--batch_size BATCH_SIZE] [--nb_epochs NB_EPOCHS]\n",
      "                             [--start_epoch START_EPOCH] [--lr LR]\n",
      "                             [--scheduler_patience SCHEDULER_PATIENCE]\n",
      "                             [--scheduler_factor SCHEDULER_FACTOR]\n",
      "                             [--use_regularizers USE_REGULARIZERS]\n",
      "                             [--reg_factor REG_FACTOR] [--reg_fmin REG_FMIN]\n",
      "                             [--reg_fmax REG_FMAX] [--use_augm USE_AUGM]\n",
      "ipykernel_launcher.py: error: unrecognized arguments: --ip=127.0.0.1 --stdin=9003 --control=9001 --hb=9000 --Session.signature_scheme=\"hmac-sha256\" --Session.key=b\"468c0b65-41d1-4351-806f-8ec6460e4534\" --shell=9002 --transport=\"tcp\" --iopub=9004 --f=/home/yanxiaoze/.local/share/jupyter/runtime/kernel-v2-114697Cx7lkyDPHGEw.json\n"
     ]
    },
    {
     "ename": "SystemExit",
     "evalue": "2",
     "output_type": "error",
     "traceback": [
      "An exception has occurred, use %tb to see the full traceback.\n",
      "\u001b[0;31mSystemExit\u001b[0m\u001b[0;31m:\u001b[0m 2\n"
     ]
    }
   ],
   "source": [
    "import run_exp\n",
    "run_exp.main()"
   ]
  },
  {
   "cell_type": "code",
   "execution_count": 10,
   "metadata": {},
   "outputs": [
    {
     "ename": "SyntaxError",
     "evalue": "invalid syntax (3341268780.py, line 1)",
     "output_type": "error",
     "traceback": [
      "\u001b[0;36m  Cell \u001b[0;32mIn[10], line 1\u001b[0;36m\u001b[0m\n\u001b[0;31m    def func(**kargs={\"a\":2}):\u001b[0m\n\u001b[0m                    ^\u001b[0m\n\u001b[0;31mSyntaxError\u001b[0m\u001b[0;31m:\u001b[0m invalid syntax\n"
     ]
    }
   ],
   "source": [
    "def func(**kargs={\"a\":2}):\n",
    "    print(kargs)"
   ]
  },
  {
   "cell_type": "code",
   "execution_count": 9,
   "metadata": {},
   "outputs": [
    {
     "name": "stdout",
     "output_type": "stream",
     "text": [
      "{'a': 1, 'b': 2}\n"
     ]
    }
   ],
   "source": [
    "func(a=1,b=2)"
   ]
  },
  {
   "cell_type": "code",
   "execution_count": 22,
   "metadata": {},
   "outputs": [
    {
     "name": "stderr",
     "output_type": "stream",
     "text": [
      "100%|██████████| 2/2 [00:00<00:00, 8971.77it/s]"
     ]
    },
    {
     "name": "stdout",
     "output_type": "stream",
     "text": [
      "0 (1, 'a')\n",
      "1 (2, 'b')\n"
     ]
    },
    {
     "name": "stderr",
     "output_type": "stream",
     "text": [
      "\n"
     ]
    }
   ],
   "source": [
    "from tqdm import tqdm\n",
    "import time\n",
    "\n",
    "# Define a list to iterate over\n",
    "my_list = [(1,\"a\"), (2, \"b\")]\n",
    "\n",
    "# Iterate over the list with tqdm\n",
    "for step, item in tqdm(enumerate(my_list), total=len(my_list)):\n",
    "    # Simulate some processing time\n",
    "    print(step,item)"
   ]
  }
 ],
 "metadata": {
  "kernelspec": {
   "display_name": "sparch",
   "language": "python",
   "name": "python3"
  },
  "language_info": {
   "codemirror_mode": {
    "name": "ipython",
    "version": 3
   },
   "file_extension": ".py",
   "mimetype": "text/x-python",
   "name": "python",
   "nbconvert_exporter": "python",
   "pygments_lexer": "ipython3",
   "version": "3.10.9"
  },
  "orig_nbformat": 4
 },
 "nbformat": 4,
 "nbformat_minor": 2
}
